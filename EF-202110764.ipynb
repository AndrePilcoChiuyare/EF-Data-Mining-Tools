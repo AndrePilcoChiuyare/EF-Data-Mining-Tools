{
 "cells": [
  {
   "cell_type": "code",
   "execution_count": 49,
   "metadata": {},
   "outputs": [],
   "source": [
    "import pandas as pd\n",
    "import numpy as np\n",
    "from sklearn.ensemble import RandomForestClassifier\n",
    "from lightgbm import LGBMClassifier"
   ]
  },
  {
   "cell_type": "markdown",
   "metadata": {},
   "source": [
    "## Preprocessing data"
   ]
  },
  {
   "cell_type": "code",
   "execution_count": 50,
   "metadata": {},
   "outputs": [
    {
     "name": "stdout",
     "output_type": "stream",
     "text": [
      "(418, 12)\n"
     ]
    },
    {
     "data": {
      "text/html": [
       "<div>\n",
       "<style scoped>\n",
       "    .dataframe tbody tr th:only-of-type {\n",
       "        vertical-align: middle;\n",
       "    }\n",
       "\n",
       "    .dataframe tbody tr th {\n",
       "        vertical-align: top;\n",
       "    }\n",
       "\n",
       "    .dataframe thead th {\n",
       "        text-align: right;\n",
       "    }\n",
       "</style>\n",
       "<table border=\"1\" class=\"dataframe\">\n",
       "  <thead>\n",
       "    <tr style=\"text-align: right;\">\n",
       "      <th></th>\n",
       "      <th>PassengerId</th>\n",
       "      <th>Survived</th>\n",
       "      <th>Pclass</th>\n",
       "      <th>Name</th>\n",
       "      <th>Sex</th>\n",
       "      <th>Age</th>\n",
       "      <th>SibSp</th>\n",
       "      <th>Parch</th>\n",
       "      <th>Ticket</th>\n",
       "      <th>Fare</th>\n",
       "      <th>Cabin</th>\n",
       "      <th>Embarked</th>\n",
       "    </tr>\n",
       "  </thead>\n",
       "  <tbody>\n",
       "    <tr>\n",
       "      <th>0</th>\n",
       "      <td>892</td>\n",
       "      <td>0</td>\n",
       "      <td>3</td>\n",
       "      <td>Kelly, Mr. James</td>\n",
       "      <td>male</td>\n",
       "      <td>34.5</td>\n",
       "      <td>0</td>\n",
       "      <td>0</td>\n",
       "      <td>330911</td>\n",
       "      <td>7.8292</td>\n",
       "      <td>NaN</td>\n",
       "      <td>Q</td>\n",
       "    </tr>\n",
       "    <tr>\n",
       "      <th>1</th>\n",
       "      <td>893</td>\n",
       "      <td>1</td>\n",
       "      <td>3</td>\n",
       "      <td>Wilkes, Mrs. James (Ellen Needs)</td>\n",
       "      <td>female</td>\n",
       "      <td>47.0</td>\n",
       "      <td>1</td>\n",
       "      <td>0</td>\n",
       "      <td>363272</td>\n",
       "      <td>7.0000</td>\n",
       "      <td>NaN</td>\n",
       "      <td>S</td>\n",
       "    </tr>\n",
       "    <tr>\n",
       "      <th>2</th>\n",
       "      <td>894</td>\n",
       "      <td>0</td>\n",
       "      <td>2</td>\n",
       "      <td>Myles, Mr. Thomas Francis</td>\n",
       "      <td>male</td>\n",
       "      <td>62.0</td>\n",
       "      <td>0</td>\n",
       "      <td>0</td>\n",
       "      <td>240276</td>\n",
       "      <td>9.6875</td>\n",
       "      <td>NaN</td>\n",
       "      <td>Q</td>\n",
       "    </tr>\n",
       "    <tr>\n",
       "      <th>3</th>\n",
       "      <td>895</td>\n",
       "      <td>0</td>\n",
       "      <td>3</td>\n",
       "      <td>Wirz, Mr. Albert</td>\n",
       "      <td>male</td>\n",
       "      <td>27.0</td>\n",
       "      <td>0</td>\n",
       "      <td>0</td>\n",
       "      <td>315154</td>\n",
       "      <td>8.6625</td>\n",
       "      <td>NaN</td>\n",
       "      <td>S</td>\n",
       "    </tr>\n",
       "    <tr>\n",
       "      <th>4</th>\n",
       "      <td>896</td>\n",
       "      <td>1</td>\n",
       "      <td>3</td>\n",
       "      <td>Hirvonen, Mrs. Alexander (Helga E Lindqvist)</td>\n",
       "      <td>female</td>\n",
       "      <td>22.0</td>\n",
       "      <td>1</td>\n",
       "      <td>1</td>\n",
       "      <td>3101298</td>\n",
       "      <td>12.2875</td>\n",
       "      <td>NaN</td>\n",
       "      <td>S</td>\n",
       "    </tr>\n",
       "  </tbody>\n",
       "</table>\n",
       "</div>"
      ],
      "text/plain": [
       "   PassengerId  Survived  Pclass  \\\n",
       "0          892         0       3   \n",
       "1          893         1       3   \n",
       "2          894         0       2   \n",
       "3          895         0       3   \n",
       "4          896         1       3   \n",
       "\n",
       "                                           Name     Sex   Age  SibSp  Parch  \\\n",
       "0                              Kelly, Mr. James    male  34.5      0      0   \n",
       "1              Wilkes, Mrs. James (Ellen Needs)  female  47.0      1      0   \n",
       "2                     Myles, Mr. Thomas Francis    male  62.0      0      0   \n",
       "3                              Wirz, Mr. Albert    male  27.0      0      0   \n",
       "4  Hirvonen, Mrs. Alexander (Helga E Lindqvist)  female  22.0      1      1   \n",
       "\n",
       "    Ticket     Fare Cabin Embarked  \n",
       "0   330911   7.8292   NaN        Q  \n",
       "1   363272   7.0000   NaN        S  \n",
       "2   240276   9.6875   NaN        Q  \n",
       "3   315154   8.6625   NaN        S  \n",
       "4  3101298  12.2875   NaN        S  "
      ]
     },
     "execution_count": 50,
     "metadata": {},
     "output_type": "execute_result"
    }
   ],
   "source": [
    "df = pd.read_csv('tested.csv')\n",
    "print(df.shape)\n",
    "df.head()"
   ]
  },
  {
   "cell_type": "code",
   "execution_count": 51,
   "metadata": {},
   "outputs": [
    {
     "name": "stdout",
     "output_type": "stream",
     "text": [
      "<class 'pandas.core.frame.DataFrame'>\n",
      "RangeIndex: 418 entries, 0 to 417\n",
      "Data columns (total 12 columns):\n",
      " #   Column       Non-Null Count  Dtype  \n",
      "---  ------       --------------  -----  \n",
      " 0   PassengerId  418 non-null    int64  \n",
      " 1   Survived     418 non-null    int64  \n",
      " 2   Pclass       418 non-null    int64  \n",
      " 3   Name         418 non-null    object \n",
      " 4   Sex          418 non-null    object \n",
      " 5   Age          332 non-null    float64\n",
      " 6   SibSp        418 non-null    int64  \n",
      " 7   Parch        418 non-null    int64  \n",
      " 8   Ticket       418 non-null    object \n",
      " 9   Fare         417 non-null    float64\n",
      " 10  Cabin        91 non-null     object \n",
      " 11  Embarked     418 non-null    object \n",
      "dtypes: float64(2), int64(5), object(5)\n",
      "memory usage: 39.3+ KB\n"
     ]
    }
   ],
   "source": [
    "df.info()"
   ]
  },
  {
   "cell_type": "markdown",
   "metadata": {},
   "source": [
    "### Checking and filling null values"
   ]
  },
  {
   "cell_type": "code",
   "execution_count": 52,
   "metadata": {},
   "outputs": [
    {
     "data": {
      "text/plain": [
       "PassengerId    0.000000\n",
       "Survived       0.000000\n",
       "Pclass         0.000000\n",
       "Name           0.000000\n",
       "Sex            0.000000\n",
       "Age            0.205742\n",
       "SibSp          0.000000\n",
       "Parch          0.000000\n",
       "Ticket         0.000000\n",
       "Fare           0.002392\n",
       "Cabin          0.782297\n",
       "Embarked       0.000000\n",
       "dtype: float64"
      ]
     },
     "execution_count": 52,
     "metadata": {},
     "output_type": "execute_result"
    }
   ],
   "source": [
    "df.isnull().sum() / df.shape[0]"
   ]
  },
  {
   "cell_type": "code",
   "execution_count": 53,
   "metadata": {},
   "outputs": [
    {
     "data": {
      "text/html": [
       "<div>\n",
       "<style scoped>\n",
       "    .dataframe tbody tr th:only-of-type {\n",
       "        vertical-align: middle;\n",
       "    }\n",
       "\n",
       "    .dataframe tbody tr th {\n",
       "        vertical-align: top;\n",
       "    }\n",
       "\n",
       "    .dataframe thead th {\n",
       "        text-align: right;\n",
       "    }\n",
       "</style>\n",
       "<table border=\"1\" class=\"dataframe\">\n",
       "  <thead>\n",
       "    <tr style=\"text-align: right;\">\n",
       "      <th></th>\n",
       "      <th>PassengerId</th>\n",
       "      <th>Survived</th>\n",
       "      <th>Pclass</th>\n",
       "      <th>Age</th>\n",
       "      <th>SibSp</th>\n",
       "      <th>Parch</th>\n",
       "      <th>Fare</th>\n",
       "    </tr>\n",
       "  </thead>\n",
       "  <tbody>\n",
       "    <tr>\n",
       "      <th>count</th>\n",
       "      <td>418.000000</td>\n",
       "      <td>418.000000</td>\n",
       "      <td>418.000000</td>\n",
       "      <td>332.000000</td>\n",
       "      <td>418.000000</td>\n",
       "      <td>418.000000</td>\n",
       "      <td>417.000000</td>\n",
       "    </tr>\n",
       "    <tr>\n",
       "      <th>mean</th>\n",
       "      <td>1100.500000</td>\n",
       "      <td>0.363636</td>\n",
       "      <td>2.265550</td>\n",
       "      <td>30.272590</td>\n",
       "      <td>0.447368</td>\n",
       "      <td>0.392344</td>\n",
       "      <td>35.627188</td>\n",
       "    </tr>\n",
       "    <tr>\n",
       "      <th>std</th>\n",
       "      <td>120.810458</td>\n",
       "      <td>0.481622</td>\n",
       "      <td>0.841838</td>\n",
       "      <td>14.181209</td>\n",
       "      <td>0.896760</td>\n",
       "      <td>0.981429</td>\n",
       "      <td>55.907576</td>\n",
       "    </tr>\n",
       "    <tr>\n",
       "      <th>min</th>\n",
       "      <td>892.000000</td>\n",
       "      <td>0.000000</td>\n",
       "      <td>1.000000</td>\n",
       "      <td>0.170000</td>\n",
       "      <td>0.000000</td>\n",
       "      <td>0.000000</td>\n",
       "      <td>0.000000</td>\n",
       "    </tr>\n",
       "    <tr>\n",
       "      <th>25%</th>\n",
       "      <td>996.250000</td>\n",
       "      <td>0.000000</td>\n",
       "      <td>1.000000</td>\n",
       "      <td>21.000000</td>\n",
       "      <td>0.000000</td>\n",
       "      <td>0.000000</td>\n",
       "      <td>7.895800</td>\n",
       "    </tr>\n",
       "    <tr>\n",
       "      <th>50%</th>\n",
       "      <td>1100.500000</td>\n",
       "      <td>0.000000</td>\n",
       "      <td>3.000000</td>\n",
       "      <td>27.000000</td>\n",
       "      <td>0.000000</td>\n",
       "      <td>0.000000</td>\n",
       "      <td>14.454200</td>\n",
       "    </tr>\n",
       "    <tr>\n",
       "      <th>75%</th>\n",
       "      <td>1204.750000</td>\n",
       "      <td>1.000000</td>\n",
       "      <td>3.000000</td>\n",
       "      <td>39.000000</td>\n",
       "      <td>1.000000</td>\n",
       "      <td>0.000000</td>\n",
       "      <td>31.500000</td>\n",
       "    </tr>\n",
       "    <tr>\n",
       "      <th>max</th>\n",
       "      <td>1309.000000</td>\n",
       "      <td>1.000000</td>\n",
       "      <td>3.000000</td>\n",
       "      <td>76.000000</td>\n",
       "      <td>8.000000</td>\n",
       "      <td>9.000000</td>\n",
       "      <td>512.329200</td>\n",
       "    </tr>\n",
       "  </tbody>\n",
       "</table>\n",
       "</div>"
      ],
      "text/plain": [
       "       PassengerId    Survived      Pclass         Age       SibSp  \\\n",
       "count   418.000000  418.000000  418.000000  332.000000  418.000000   \n",
       "mean   1100.500000    0.363636    2.265550   30.272590    0.447368   \n",
       "std     120.810458    0.481622    0.841838   14.181209    0.896760   \n",
       "min     892.000000    0.000000    1.000000    0.170000    0.000000   \n",
       "25%     996.250000    0.000000    1.000000   21.000000    0.000000   \n",
       "50%    1100.500000    0.000000    3.000000   27.000000    0.000000   \n",
       "75%    1204.750000    1.000000    3.000000   39.000000    1.000000   \n",
       "max    1309.000000    1.000000    3.000000   76.000000    8.000000   \n",
       "\n",
       "            Parch        Fare  \n",
       "count  418.000000  417.000000  \n",
       "mean     0.392344   35.627188  \n",
       "std      0.981429   55.907576  \n",
       "min      0.000000    0.000000  \n",
       "25%      0.000000    7.895800  \n",
       "50%      0.000000   14.454200  \n",
       "75%      0.000000   31.500000  \n",
       "max      9.000000  512.329200  "
      ]
     },
     "execution_count": 53,
     "metadata": {},
     "output_type": "execute_result"
    }
   ],
   "source": [
    "df.describe()"
   ]
  },
  {
   "cell_type": "code",
   "execution_count": 54,
   "metadata": {},
   "outputs": [
    {
     "data": {
      "text/html": [
       "<div>\n",
       "<style scoped>\n",
       "    .dataframe tbody tr th:only-of-type {\n",
       "        vertical-align: middle;\n",
       "    }\n",
       "\n",
       "    .dataframe tbody tr th {\n",
       "        vertical-align: top;\n",
       "    }\n",
       "\n",
       "    .dataframe thead th {\n",
       "        text-align: right;\n",
       "    }\n",
       "</style>\n",
       "<table border=\"1\" class=\"dataframe\">\n",
       "  <thead>\n",
       "    <tr style=\"text-align: right;\">\n",
       "      <th></th>\n",
       "      <th>PassengerId</th>\n",
       "      <th>Survived</th>\n",
       "      <th>Pclass</th>\n",
       "      <th>Name</th>\n",
       "      <th>Sex</th>\n",
       "      <th>Age</th>\n",
       "      <th>SibSp</th>\n",
       "      <th>Parch</th>\n",
       "      <th>Ticket</th>\n",
       "      <th>Fare</th>\n",
       "      <th>Embarked</th>\n",
       "    </tr>\n",
       "  </thead>\n",
       "  <tbody>\n",
       "    <tr>\n",
       "      <th>0</th>\n",
       "      <td>892</td>\n",
       "      <td>0</td>\n",
       "      <td>3</td>\n",
       "      <td>Kelly, Mr. James</td>\n",
       "      <td>male</td>\n",
       "      <td>34.5</td>\n",
       "      <td>0</td>\n",
       "      <td>0</td>\n",
       "      <td>330911</td>\n",
       "      <td>7.8292</td>\n",
       "      <td>Q</td>\n",
       "    </tr>\n",
       "    <tr>\n",
       "      <th>1</th>\n",
       "      <td>893</td>\n",
       "      <td>1</td>\n",
       "      <td>3</td>\n",
       "      <td>Wilkes, Mrs. James (Ellen Needs)</td>\n",
       "      <td>female</td>\n",
       "      <td>47.0</td>\n",
       "      <td>1</td>\n",
       "      <td>0</td>\n",
       "      <td>363272</td>\n",
       "      <td>7.0000</td>\n",
       "      <td>S</td>\n",
       "    </tr>\n",
       "    <tr>\n",
       "      <th>2</th>\n",
       "      <td>894</td>\n",
       "      <td>0</td>\n",
       "      <td>2</td>\n",
       "      <td>Myles, Mr. Thomas Francis</td>\n",
       "      <td>male</td>\n",
       "      <td>62.0</td>\n",
       "      <td>0</td>\n",
       "      <td>0</td>\n",
       "      <td>240276</td>\n",
       "      <td>9.6875</td>\n",
       "      <td>Q</td>\n",
       "    </tr>\n",
       "    <tr>\n",
       "      <th>3</th>\n",
       "      <td>895</td>\n",
       "      <td>0</td>\n",
       "      <td>3</td>\n",
       "      <td>Wirz, Mr. Albert</td>\n",
       "      <td>male</td>\n",
       "      <td>27.0</td>\n",
       "      <td>0</td>\n",
       "      <td>0</td>\n",
       "      <td>315154</td>\n",
       "      <td>8.6625</td>\n",
       "      <td>S</td>\n",
       "    </tr>\n",
       "    <tr>\n",
       "      <th>4</th>\n",
       "      <td>896</td>\n",
       "      <td>1</td>\n",
       "      <td>3</td>\n",
       "      <td>Hirvonen, Mrs. Alexander (Helga E Lindqvist)</td>\n",
       "      <td>female</td>\n",
       "      <td>22.0</td>\n",
       "      <td>1</td>\n",
       "      <td>1</td>\n",
       "      <td>3101298</td>\n",
       "      <td>12.2875</td>\n",
       "      <td>S</td>\n",
       "    </tr>\n",
       "  </tbody>\n",
       "</table>\n",
       "</div>"
      ],
      "text/plain": [
       "   PassengerId  Survived  Pclass  \\\n",
       "0          892         0       3   \n",
       "1          893         1       3   \n",
       "2          894         0       2   \n",
       "3          895         0       3   \n",
       "4          896         1       3   \n",
       "\n",
       "                                           Name     Sex   Age  SibSp  Parch  \\\n",
       "0                              Kelly, Mr. James    male  34.5      0      0   \n",
       "1              Wilkes, Mrs. James (Ellen Needs)  female  47.0      1      0   \n",
       "2                     Myles, Mr. Thomas Francis    male  62.0      0      0   \n",
       "3                              Wirz, Mr. Albert    male  27.0      0      0   \n",
       "4  Hirvonen, Mrs. Alexander (Helga E Lindqvist)  female  22.0      1      1   \n",
       "\n",
       "    Ticket     Fare Embarked  \n",
       "0   330911   7.8292        Q  \n",
       "1   363272   7.0000        S  \n",
       "2   240276   9.6875        Q  \n",
       "3   315154   8.6625        S  \n",
       "4  3101298  12.2875        S  "
      ]
     },
     "execution_count": 54,
     "metadata": {},
     "output_type": "execute_result"
    }
   ],
   "source": [
    "df.drop(columns=['Cabin'], inplace=True)\n",
    "df.head()"
   ]
  },
  {
   "cell_type": "code",
   "execution_count": 55,
   "metadata": {},
   "outputs": [
    {
     "name": "stdout",
     "output_type": "stream",
     "text": [
      "<class 'pandas.core.frame.DataFrame'>\n",
      "RangeIndex: 418 entries, 0 to 417\n",
      "Data columns (total 11 columns):\n",
      " #   Column       Non-Null Count  Dtype  \n",
      "---  ------       --------------  -----  \n",
      " 0   PassengerId  418 non-null    int64  \n",
      " 1   Survived     418 non-null    int64  \n",
      " 2   Pclass       418 non-null    int64  \n",
      " 3   Name         418 non-null    object \n",
      " 4   Sex          418 non-null    object \n",
      " 5   Age          418 non-null    float64\n",
      " 6   SibSp        418 non-null    int64  \n",
      " 7   Parch        418 non-null    int64  \n",
      " 8   Ticket       418 non-null    object \n",
      " 9   Fare         417 non-null    float64\n",
      " 10  Embarked     418 non-null    object \n",
      "dtypes: float64(2), int64(5), object(4)\n",
      "memory usage: 36.1+ KB\n"
     ]
    }
   ],
   "source": [
    "df['Age'].fillna(df['Age'].mean(), inplace=True)\n",
    "df.info()"
   ]
  },
  {
   "cell_type": "code",
   "execution_count": 56,
   "metadata": {},
   "outputs": [],
   "source": [
    "df.dropna(inplace=True)"
   ]
  },
  {
   "cell_type": "code",
   "execution_count": 57,
   "metadata": {},
   "outputs": [
    {
     "data": {
      "text/html": [
       "<div>\n",
       "<style scoped>\n",
       "    .dataframe tbody tr th:only-of-type {\n",
       "        vertical-align: middle;\n",
       "    }\n",
       "\n",
       "    .dataframe tbody tr th {\n",
       "        vertical-align: top;\n",
       "    }\n",
       "\n",
       "    .dataframe thead th {\n",
       "        text-align: right;\n",
       "    }\n",
       "</style>\n",
       "<table border=\"1\" class=\"dataframe\">\n",
       "  <thead>\n",
       "    <tr style=\"text-align: right;\">\n",
       "      <th></th>\n",
       "      <th>PassengerId</th>\n",
       "      <th>Survived</th>\n",
       "      <th>Pclass</th>\n",
       "      <th>Age</th>\n",
       "      <th>SibSp</th>\n",
       "      <th>Parch</th>\n",
       "      <th>Fare</th>\n",
       "    </tr>\n",
       "  </thead>\n",
       "  <tbody>\n",
       "    <tr>\n",
       "      <th>count</th>\n",
       "      <td>417.000000</td>\n",
       "      <td>417.000000</td>\n",
       "      <td>417.000000</td>\n",
       "      <td>417.000000</td>\n",
       "      <td>417.000000</td>\n",
       "      <td>417.000000</td>\n",
       "      <td>417.000000</td>\n",
       "    </tr>\n",
       "    <tr>\n",
       "      <th>mean</th>\n",
       "      <td>1100.635492</td>\n",
       "      <td>0.364508</td>\n",
       "      <td>2.263789</td>\n",
       "      <td>30.200103</td>\n",
       "      <td>0.448441</td>\n",
       "      <td>0.393285</td>\n",
       "      <td>35.627188</td>\n",
       "    </tr>\n",
       "    <tr>\n",
       "      <th>std</th>\n",
       "      <td>120.923774</td>\n",
       "      <td>0.481870</td>\n",
       "      <td>0.842077</td>\n",
       "      <td>12.562386</td>\n",
       "      <td>0.897568</td>\n",
       "      <td>0.982419</td>\n",
       "      <td>55.907576</td>\n",
       "    </tr>\n",
       "    <tr>\n",
       "      <th>min</th>\n",
       "      <td>892.000000</td>\n",
       "      <td>0.000000</td>\n",
       "      <td>1.000000</td>\n",
       "      <td>0.170000</td>\n",
       "      <td>0.000000</td>\n",
       "      <td>0.000000</td>\n",
       "      <td>0.000000</td>\n",
       "    </tr>\n",
       "    <tr>\n",
       "      <th>25%</th>\n",
       "      <td>996.000000</td>\n",
       "      <td>0.000000</td>\n",
       "      <td>1.000000</td>\n",
       "      <td>23.000000</td>\n",
       "      <td>0.000000</td>\n",
       "      <td>0.000000</td>\n",
       "      <td>7.895800</td>\n",
       "    </tr>\n",
       "    <tr>\n",
       "      <th>50%</th>\n",
       "      <td>1101.000000</td>\n",
       "      <td>0.000000</td>\n",
       "      <td>3.000000</td>\n",
       "      <td>30.272590</td>\n",
       "      <td>0.000000</td>\n",
       "      <td>0.000000</td>\n",
       "      <td>14.454200</td>\n",
       "    </tr>\n",
       "    <tr>\n",
       "      <th>75%</th>\n",
       "      <td>1205.000000</td>\n",
       "      <td>1.000000</td>\n",
       "      <td>3.000000</td>\n",
       "      <td>35.000000</td>\n",
       "      <td>1.000000</td>\n",
       "      <td>0.000000</td>\n",
       "      <td>31.500000</td>\n",
       "    </tr>\n",
       "    <tr>\n",
       "      <th>max</th>\n",
       "      <td>1309.000000</td>\n",
       "      <td>1.000000</td>\n",
       "      <td>3.000000</td>\n",
       "      <td>76.000000</td>\n",
       "      <td>8.000000</td>\n",
       "      <td>9.000000</td>\n",
       "      <td>512.329200</td>\n",
       "    </tr>\n",
       "  </tbody>\n",
       "</table>\n",
       "</div>"
      ],
      "text/plain": [
       "       PassengerId    Survived      Pclass         Age       SibSp  \\\n",
       "count   417.000000  417.000000  417.000000  417.000000  417.000000   \n",
       "mean   1100.635492    0.364508    2.263789   30.200103    0.448441   \n",
       "std     120.923774    0.481870    0.842077   12.562386    0.897568   \n",
       "min     892.000000    0.000000    1.000000    0.170000    0.000000   \n",
       "25%     996.000000    0.000000    1.000000   23.000000    0.000000   \n",
       "50%    1101.000000    0.000000    3.000000   30.272590    0.000000   \n",
       "75%    1205.000000    1.000000    3.000000   35.000000    1.000000   \n",
       "max    1309.000000    1.000000    3.000000   76.000000    8.000000   \n",
       "\n",
       "            Parch        Fare  \n",
       "count  417.000000  417.000000  \n",
       "mean     0.393285   35.627188  \n",
       "std      0.982419   55.907576  \n",
       "min      0.000000    0.000000  \n",
       "25%      0.000000    7.895800  \n",
       "50%      0.000000   14.454200  \n",
       "75%      0.000000   31.500000  \n",
       "max      9.000000  512.329200  "
      ]
     },
     "execution_count": 57,
     "metadata": {},
     "output_type": "execute_result"
    }
   ],
   "source": [
    "df.describe()"
   ]
  },
  {
   "cell_type": "markdown",
   "metadata": {},
   "source": [
    "### Dropping unnecessary columns"
   ]
  },
  {
   "cell_type": "code",
   "execution_count": 58,
   "metadata": {},
   "outputs": [
    {
     "data": {
      "text/html": [
       "<div>\n",
       "<style scoped>\n",
       "    .dataframe tbody tr th:only-of-type {\n",
       "        vertical-align: middle;\n",
       "    }\n",
       "\n",
       "    .dataframe tbody tr th {\n",
       "        vertical-align: top;\n",
       "    }\n",
       "\n",
       "    .dataframe thead th {\n",
       "        text-align: right;\n",
       "    }\n",
       "</style>\n",
       "<table border=\"1\" class=\"dataframe\">\n",
       "  <thead>\n",
       "    <tr style=\"text-align: right;\">\n",
       "      <th></th>\n",
       "      <th>Survived</th>\n",
       "      <th>Pclass</th>\n",
       "      <th>Sex</th>\n",
       "      <th>Age</th>\n",
       "      <th>SibSp</th>\n",
       "      <th>Parch</th>\n",
       "      <th>Fare</th>\n",
       "    </tr>\n",
       "  </thead>\n",
       "  <tbody>\n",
       "    <tr>\n",
       "      <th>0</th>\n",
       "      <td>0</td>\n",
       "      <td>3</td>\n",
       "      <td>male</td>\n",
       "      <td>34.5</td>\n",
       "      <td>0</td>\n",
       "      <td>0</td>\n",
       "      <td>7.8292</td>\n",
       "    </tr>\n",
       "    <tr>\n",
       "      <th>1</th>\n",
       "      <td>1</td>\n",
       "      <td>3</td>\n",
       "      <td>female</td>\n",
       "      <td>47.0</td>\n",
       "      <td>1</td>\n",
       "      <td>0</td>\n",
       "      <td>7.0000</td>\n",
       "    </tr>\n",
       "    <tr>\n",
       "      <th>2</th>\n",
       "      <td>0</td>\n",
       "      <td>2</td>\n",
       "      <td>male</td>\n",
       "      <td>62.0</td>\n",
       "      <td>0</td>\n",
       "      <td>0</td>\n",
       "      <td>9.6875</td>\n",
       "    </tr>\n",
       "    <tr>\n",
       "      <th>3</th>\n",
       "      <td>0</td>\n",
       "      <td>3</td>\n",
       "      <td>male</td>\n",
       "      <td>27.0</td>\n",
       "      <td>0</td>\n",
       "      <td>0</td>\n",
       "      <td>8.6625</td>\n",
       "    </tr>\n",
       "    <tr>\n",
       "      <th>4</th>\n",
       "      <td>1</td>\n",
       "      <td>3</td>\n",
       "      <td>female</td>\n",
       "      <td>22.0</td>\n",
       "      <td>1</td>\n",
       "      <td>1</td>\n",
       "      <td>12.2875</td>\n",
       "    </tr>\n",
       "  </tbody>\n",
       "</table>\n",
       "</div>"
      ],
      "text/plain": [
       "   Survived  Pclass     Sex   Age  SibSp  Parch     Fare\n",
       "0         0       3    male  34.5      0      0   7.8292\n",
       "1         1       3  female  47.0      1      0   7.0000\n",
       "2         0       2    male  62.0      0      0   9.6875\n",
       "3         0       3    male  27.0      0      0   8.6625\n",
       "4         1       3  female  22.0      1      1  12.2875"
      ]
     },
     "execution_count": 58,
     "metadata": {},
     "output_type": "execute_result"
    }
   ],
   "source": [
    "df.drop(columns=['Name', 'Ticket', 'Embarked', 'PassengerId'], inplace=True)\n",
    "df.head()"
   ]
  },
  {
   "cell_type": "markdown",
   "metadata": {},
   "source": [
    "### Encoding\n",
    "Since it's just a single categorical feature, we're doing it manually"
   ]
  },
  {
   "cell_type": "code",
   "execution_count": 59,
   "metadata": {},
   "outputs": [
    {
     "data": {
      "text/html": [
       "<div>\n",
       "<style scoped>\n",
       "    .dataframe tbody tr th:only-of-type {\n",
       "        vertical-align: middle;\n",
       "    }\n",
       "\n",
       "    .dataframe tbody tr th {\n",
       "        vertical-align: top;\n",
       "    }\n",
       "\n",
       "    .dataframe thead th {\n",
       "        text-align: right;\n",
       "    }\n",
       "</style>\n",
       "<table border=\"1\" class=\"dataframe\">\n",
       "  <thead>\n",
       "    <tr style=\"text-align: right;\">\n",
       "      <th></th>\n",
       "      <th>Survived</th>\n",
       "      <th>Pclass</th>\n",
       "      <th>Sex</th>\n",
       "      <th>Age</th>\n",
       "      <th>SibSp</th>\n",
       "      <th>Parch</th>\n",
       "      <th>Fare</th>\n",
       "    </tr>\n",
       "  </thead>\n",
       "  <tbody>\n",
       "    <tr>\n",
       "      <th>0</th>\n",
       "      <td>0</td>\n",
       "      <td>3</td>\n",
       "      <td>1</td>\n",
       "      <td>34.5</td>\n",
       "      <td>0</td>\n",
       "      <td>0</td>\n",
       "      <td>7.8292</td>\n",
       "    </tr>\n",
       "    <tr>\n",
       "      <th>1</th>\n",
       "      <td>1</td>\n",
       "      <td>3</td>\n",
       "      <td>0</td>\n",
       "      <td>47.0</td>\n",
       "      <td>1</td>\n",
       "      <td>0</td>\n",
       "      <td>7.0000</td>\n",
       "    </tr>\n",
       "    <tr>\n",
       "      <th>2</th>\n",
       "      <td>0</td>\n",
       "      <td>2</td>\n",
       "      <td>1</td>\n",
       "      <td>62.0</td>\n",
       "      <td>0</td>\n",
       "      <td>0</td>\n",
       "      <td>9.6875</td>\n",
       "    </tr>\n",
       "    <tr>\n",
       "      <th>3</th>\n",
       "      <td>0</td>\n",
       "      <td>3</td>\n",
       "      <td>1</td>\n",
       "      <td>27.0</td>\n",
       "      <td>0</td>\n",
       "      <td>0</td>\n",
       "      <td>8.6625</td>\n",
       "    </tr>\n",
       "    <tr>\n",
       "      <th>4</th>\n",
       "      <td>1</td>\n",
       "      <td>3</td>\n",
       "      <td>0</td>\n",
       "      <td>22.0</td>\n",
       "      <td>1</td>\n",
       "      <td>1</td>\n",
       "      <td>12.2875</td>\n",
       "    </tr>\n",
       "  </tbody>\n",
       "</table>\n",
       "</div>"
      ],
      "text/plain": [
       "   Survived  Pclass  Sex   Age  SibSp  Parch     Fare\n",
       "0         0       3    1  34.5      0      0   7.8292\n",
       "1         1       3    0  47.0      1      0   7.0000\n",
       "2         0       2    1  62.0      0      0   9.6875\n",
       "3         0       3    1  27.0      0      0   8.6625\n",
       "4         1       3    0  22.0      1      1  12.2875"
      ]
     },
     "execution_count": 59,
     "metadata": {},
     "output_type": "execute_result"
    }
   ],
   "source": [
    "df['Sex'] = df['Sex'].apply(lambda x: 1 if x == 'male' else 0)\n",
    "df.head()"
   ]
  },
  {
   "cell_type": "code",
   "execution_count": 60,
   "metadata": {},
   "outputs": [
    {
     "name": "stdout",
     "output_type": "stream",
     "text": [
      "<class 'pandas.core.frame.DataFrame'>\n",
      "Int64Index: 417 entries, 0 to 417\n",
      "Data columns (total 7 columns):\n",
      " #   Column    Non-Null Count  Dtype  \n",
      "---  ------    --------------  -----  \n",
      " 0   Survived  417 non-null    int64  \n",
      " 1   Pclass    417 non-null    int64  \n",
      " 2   Sex       417 non-null    int64  \n",
      " 3   Age       417 non-null    float64\n",
      " 4   SibSp     417 non-null    int64  \n",
      " 5   Parch     417 non-null    int64  \n",
      " 6   Fare      417 non-null    float64\n",
      "dtypes: float64(2), int64(5)\n",
      "memory usage: 26.1 KB\n"
     ]
    }
   ],
   "source": [
    "df.info()"
   ]
  },
  {
   "cell_type": "markdown",
   "metadata": {},
   "source": [
    "### Dropping duplicates"
   ]
  },
  {
   "cell_type": "code",
   "execution_count": 61,
   "metadata": {},
   "outputs": [
    {
     "data": {
      "text/plain": [
       "40"
      ]
     },
     "execution_count": 61,
     "metadata": {},
     "output_type": "execute_result"
    }
   ],
   "source": [
    "df.duplicated().sum()"
   ]
  },
  {
   "cell_type": "code",
   "execution_count": 62,
   "metadata": {},
   "outputs": [],
   "source": [
    "df.drop_duplicates(inplace=True)"
   ]
  },
  {
   "cell_type": "code",
   "execution_count": 63,
   "metadata": {},
   "outputs": [
    {
     "name": "stdout",
     "output_type": "stream",
     "text": [
      "<class 'pandas.core.frame.DataFrame'>\n",
      "Int64Index: 377 entries, 0 to 417\n",
      "Data columns (total 7 columns):\n",
      " #   Column    Non-Null Count  Dtype  \n",
      "---  ------    --------------  -----  \n",
      " 0   Survived  377 non-null    int64  \n",
      " 1   Pclass    377 non-null    int64  \n",
      " 2   Sex       377 non-null    int64  \n",
      " 3   Age       377 non-null    float64\n",
      " 4   SibSp     377 non-null    int64  \n",
      " 5   Parch     377 non-null    int64  \n",
      " 6   Fare      377 non-null    float64\n",
      "dtypes: float64(2), int64(5)\n",
      "memory usage: 23.6 KB\n"
     ]
    }
   ],
   "source": [
    "df.info()"
   ]
  },
  {
   "cell_type": "code",
   "execution_count": 64,
   "metadata": {},
   "outputs": [
    {
     "data": {
      "text/plain": [
       "Survived    0\n",
       "Pclass      0\n",
       "Sex         0\n",
       "Age         0\n",
       "SibSp       0\n",
       "Parch       0\n",
       "Fare        0\n",
       "dtype: int64"
      ]
     },
     "execution_count": 64,
     "metadata": {},
     "output_type": "execute_result"
    }
   ],
   "source": [
    "df.isnull().sum()"
   ]
  },
  {
   "cell_type": "code",
   "execution_count": 65,
   "metadata": {},
   "outputs": [
    {
     "data": {
      "text/plain": [
       "((377, 6), (377,))"
      ]
     },
     "execution_count": 65,
     "metadata": {},
     "output_type": "execute_result"
    }
   ],
   "source": [
    "X = df.drop(columns=['Survived'])\n",
    "y = df['Survived']\n",
    "\n",
    "X.shape, y.shape"
   ]
  },
  {
   "cell_type": "markdown",
   "metadata": {},
   "source": [
    "### Scaling"
   ]
  },
  {
   "cell_type": "code",
   "execution_count": 66,
   "metadata": {},
   "outputs": [
    {
     "data": {
      "image/png": "[encoded data removed]",
      "text/plain": [
       "<Figure size 1500x1500 with 7 Axes>"
      ]
     },
     "metadata": {},
     "output_type": "display_data"
    }
   ],
   "source": [
    "import matplotlib.pyplot as plt\n",
    "import seaborn as sns\n",
    "def create_boxplots(df, columns=None):\n",
    "    if columns is None:\n",
    "        columns = df.select_dtypes(include=['number']).columns\n",
    "    num_cols = len(columns)\n",
    "    num_rows = (num_cols + 2) // 3\n",
    "    plt.figure(figsize=(15, 5 * num_rows))\n",
    "    for i, col in enumerate(reversed(columns)):\n",
    "        plt.subplot(num_rows, 3, i + 1)\n",
    "        sns.boxplot(y=df[col])\n",
    "        plt.title(f'Boxplot de {col}')\n",
    "        plt.ylabel(col)\n",
    "    plt.tight_layout()\n",
    "    plt.show()\n",
    "    \n",
    "create_boxplots(df)"
   ]
  },
  {
   "cell_type": "code",
   "execution_count": 67,
   "metadata": {},
   "outputs": [],
   "source": [
    "from sklearn.preprocessing import StandardScaler\n",
    "from sklearn.model_selection import train_test_split, KFold, cross_val_score\n",
    "from sklearn.metrics import classification_report"
   ]
  },
  {
   "cell_type": "code",
   "execution_count": null,
   "metadata": {},
   "outputs": [],
   "source": [
    "scaler = StandardScaler()\n",
    "X = scaler.fit_transform(X)\n",
    "\n",
    "import pickle\n",
    "with open('scaler.pkl', 'wb') as f:\n",
    "    pickle.dump(scaler, f)"
   ]
  },
  {
   "cell_type": "code",
   "execution_count": 20,
   "metadata": {},
   "outputs": [
    {
     "data": {
      "text/plain": [
       "((301, 6), (76, 6), (301,), (76,))"
      ]
     },
     "execution_count": 20,
     "metadata": {},
     "output_type": "execute_result"
    }
   ],
   "source": [
    "X_train, X_test, y_train, y_test = train_test_split(X, y, test_size=0.2, random_state=42)\n",
    "X_train.shape, X_test.shape, y_train.shape, y_test.shape"
   ]
  },
  {
   "cell_type": "markdown",
   "metadata": {},
   "source": [
    "## 1. Aplique por lo menos dos métodos de clasificación a los datos, utilice como variable target la columna Survived."
   ]
  },
  {
   "cell_type": "markdown",
   "metadata": {},
   "source": [
    "### Random Forest Classifier"
   ]
  },
  {
   "cell_type": "code",
   "execution_count": 21,
   "metadata": {},
   "outputs": [
    {
     "name": "stdout",
     "output_type": "stream",
     "text": [
      "              precision    recall  f1-score   support\n",
      "\n",
      "           0       1.00      1.00      1.00        49\n",
      "           1       1.00      1.00      1.00        27\n",
      "\n",
      "    accuracy                           1.00        76\n",
      "   macro avg       1.00      1.00      1.00        76\n",
      "weighted avg       1.00      1.00      1.00        76\n",
      "\n"
     ]
    }
   ],
   "source": [
    "rf = RandomForestClassifier(n_estimators=100, random_state=42)\n",
    "rf.fit(X_train, y_train)\n",
    "y_pred = rf.predict(X_test)\n",
    "\n",
    "print(classification_report(y_test, y_pred))"
   ]
  },
  {
   "cell_type": "markdown",
   "metadata": {},
   "source": [
    "Random forest tiene muy buena capacidad para discernir entre los que sobrevivieron, alcanzando un 100% de precisión."
   ]
  },
  {
   "cell_type": "code",
   "execution_count": 72,
   "metadata": {},
   "outputs": [],
   "source": [
    "with open('rf.pkl', 'wb') as f:\n",
    "    pickle.dump(rf, f)"
   ]
  },
  {
   "cell_type": "code",
   "execution_count": 22,
   "metadata": {},
   "outputs": [
    {
     "data": {
      "text/html": [
       "<div>\n",
       "<style scoped>\n",
       "    .dataframe tbody tr th:only-of-type {\n",
       "        vertical-align: middle;\n",
       "    }\n",
       "\n",
       "    .dataframe tbody tr th {\n",
       "        vertical-align: top;\n",
       "    }\n",
       "\n",
       "    .dataframe thead th {\n",
       "        text-align: right;\n",
       "    }\n",
       "</style>\n",
       "<table border=\"1\" class=\"dataframe\">\n",
       "  <thead>\n",
       "    <tr style=\"text-align: right;\">\n",
       "      <th></th>\n",
       "      <th>0</th>\n",
       "      <th>3</th>\n",
       "      <th>4</th>\n",
       "      <th>2</th>\n",
       "      <th>5</th>\n",
       "      <th>1</th>\n",
       "    </tr>\n",
       "  </thead>\n",
       "  <tbody>\n",
       "    <tr>\n",
       "      <th>predictor</th>\n",
       "      <td>Pclass</td>\n",
       "      <td>SibSp</td>\n",
       "      <td>Parch</td>\n",
       "      <td>Age</td>\n",
       "      <td>Fare</td>\n",
       "      <td>Sex</td>\n",
       "    </tr>\n",
       "    <tr>\n",
       "      <th>importancia</th>\n",
       "      <td>0.007182</td>\n",
       "      <td>0.009198</td>\n",
       "      <td>0.015468</td>\n",
       "      <td>0.029413</td>\n",
       "      <td>0.056417</td>\n",
       "      <td>0.882321</td>\n",
       "    </tr>\n",
       "  </tbody>\n",
       "</table>\n",
       "</div>"
      ],
      "text/plain": [
       "                    0         3         4         2         5         1\n",
       "predictor      Pclass     SibSp     Parch       Age      Fare       Sex\n",
       "importancia  0.007182  0.009198  0.015468  0.029413  0.056417  0.882321"
      ]
     },
     "execution_count": 22,
     "metadata": {},
     "output_type": "execute_result"
    }
   ],
   "source": [
    "importancia_predictores = pd.DataFrame({'predictor': df.drop(columns=['Survived']).columns, 'importancia': rf.feature_importances_})\n",
    "importancia_predictores.sort_values('importancia', ascending=True).T"
   ]
  },
  {
   "cell_type": "code",
   "execution_count": null,
   "metadata": {},
   "outputs": [
    {
     "data": {
      "image/png": "[encoded data removed]",
      "text/plain": [
       "<Figure size 1000x2000 with 1 Axes>"
      ]
     },
     "metadata": {},
     "output_type": "display_data"
    }
   ],
   "source": [
    "plt.figure(figsize=(10, 20))\n",
    "sns.barplot(x='importancia', y='predictor', data=importancia_predictores.sort_values('importancia', ascending=False))\n",
    "plt.title('Importancia de los predictores')\n",
    "plt.show()"
   ]
  },
  {
   "cell_type": "markdown",
   "metadata": {},
   "source": [
    "Sorprendentemente, el sexo del pasajero es la variable más determinante al momento de identificar a los sobrevivientes."
   ]
  },
  {
   "cell_type": "markdown",
   "metadata": {},
   "source": [
    "### SVC"
   ]
  },
  {
   "cell_type": "code",
   "execution_count": 24,
   "metadata": {},
   "outputs": [
    {
     "name": "stdout",
     "output_type": "stream",
     "text": [
      "              precision    recall  f1-score   support\n",
      "\n",
      "           0       0.96      1.00      0.98        49\n",
      "           1       1.00      0.93      0.96        27\n",
      "\n",
      "    accuracy                           0.97        76\n",
      "   macro avg       0.98      0.96      0.97        76\n",
      "weighted avg       0.97      0.97      0.97        76\n",
      "\n"
     ]
    }
   ],
   "source": [
    "from sklearn.svm import SVC\n",
    "\n",
    "svc = SVC()\n",
    "svc.fit(X_train, y_train)\n",
    "y_pred = svc.predict(X_test)\n",
    "\n",
    "print(classification_report(y_test, y_pred))"
   ]
  },
  {
   "cell_type": "markdown",
   "metadata": {},
   "source": [
    "Por otro lado, SVC alcanza 97%, el cual es un muy buen resultado, pero que no alcanza a RF."
   ]
  },
  {
   "cell_type": "markdown",
   "metadata": {},
   "source": [
    "## 2. Utilice la librería sklearn-genetic-opt y/o optuna para la optimización de hiperparametros, compare los resultados de los modelos."
   ]
  },
  {
   "cell_type": "markdown",
   "metadata": {},
   "source": [
    "Como no se puede mejorar el resultado obtenido con random forest, se realizará la optimización de hiperparámetros con optuna y sklearn-genetic-opt con la finalidad de compararlos"
   ]
  },
  {
   "cell_type": "markdown",
   "metadata": {},
   "source": [
    "### Optuna"
   ]
  },
  {
   "cell_type": "code",
   "execution_count": 25,
   "metadata": {},
   "outputs": [],
   "source": [
    "import optuna"
   ]
  },
  {
   "cell_type": "code",
   "execution_count": 26,
   "metadata": {},
   "outputs": [],
   "source": [
    "def objective(trial):\n",
    "    C = trial.suggest_loguniform('C', 1e-3, 1e3)\n",
    "    kernel = trial.suggest_categorical('kernel', ['linear', 'poly', 'rbf', 'sigmoid'])\n",
    "    degree = trial.suggest_int('degree', 2, 5) if kernel == 'poly' else 3\n",
    "    gamma = trial.suggest_categorical('gamma', ['scale', 'auto'])\n",
    "\n",
    "    svc = SVC(C=C, kernel=kernel, degree=degree, gamma=gamma)\n",
    "\n",
    "    scores = cross_val_score(svc, X_train, y_train, cv=5, scoring='accuracy')\n",
    "    return scores.mean()"
   ]
  },
  {
   "cell_type": "code",
   "execution_count": 27,
   "metadata": {},
   "outputs": [
    {
     "name": "stderr",
     "output_type": "stream",
     "text": [
      "[I 2024-11-26 15:51:15,969] A new study created in memory with name: no-name-c9612870-290d-467c-9811-0b45fba2a28e\n",
      "C:\\Users\\andre\\AppData\\Local\\Temp\\ipykernel_20560\\1492138669.py:2: FutureWarning: suggest_loguniform has been deprecated in v3.0.0. This feature will be removed in v6.0.0. See https://github.com/optuna/optuna/releases/tag/v3.0.0. Use suggest_float(..., log=True) instead.\n",
      "  C = trial.suggest_loguniform('C', 1e-3, 1e3)\n",
      "[I 2024-11-26 15:51:15,988] Trial 0 finished with value: 1.0 and parameters: {'C': 378.3465915170994, 'kernel': 'poly', 'degree': 3, 'gamma': 'scale'}. Best is trial 0 with value: 1.0.\n",
      "C:\\Users\\andre\\AppData\\Local\\Temp\\ipykernel_20560\\1492138669.py:2: FutureWarning: suggest_loguniform has been deprecated in v3.0.0. This feature will be removed in v6.0.0. See https://github.com/optuna/optuna/releases/tag/v3.0.0. Use suggest_float(..., log=True) instead.\n",
      "  C = trial.suggest_loguniform('C', 1e-3, 1e3)\n",
      "[I 2024-11-26 15:51:16,018] Trial 1 finished with value: 0.9767759562841529 and parameters: {'C': 0.20365406551675944, 'kernel': 'poly', 'degree': 3, 'gamma': 'scale'}. Best is trial 0 with value: 1.0.\n",
      "C:\\Users\\andre\\AppData\\Local\\Temp\\ipykernel_20560\\1492138669.py:2: FutureWarning: suggest_loguniform has been deprecated in v3.0.0. This feature will be removed in v6.0.0. See https://github.com/optuna/optuna/releases/tag/v3.0.0. Use suggest_float(..., log=True) instead.\n",
      "  C = trial.suggest_loguniform('C', 1e-3, 1e3)\n",
      "[I 2024-11-26 15:51:16,036] Trial 2 finished with value: 1.0 and parameters: {'C': 404.2881152222175, 'kernel': 'poly', 'degree': 5, 'gamma': 'scale'}. Best is trial 0 with value: 1.0.\n",
      "C:\\Users\\andre\\AppData\\Local\\Temp\\ipykernel_20560\\1492138669.py:2: FutureWarning: suggest_loguniform has been deprecated in v3.0.0. This feature will be removed in v6.0.0. See https://github.com/optuna/optuna/releases/tag/v3.0.0. Use suggest_float(..., log=True) instead.\n",
      "  C = trial.suggest_loguniform('C', 1e-3, 1e3)\n",
      "[I 2024-11-26 15:51:16,071] Trial 3 finished with value: 0.9833333333333334 and parameters: {'C': 0.07031208070106403, 'kernel': 'rbf', 'gamma': 'scale'}. Best is trial 0 with value: 1.0.\n",
      "C:\\Users\\andre\\AppData\\Local\\Temp\\ipykernel_20560\\1492138669.py:2: FutureWarning: suggest_loguniform has been deprecated in v3.0.0. This feature will be removed in v6.0.0. See https://github.com/optuna/optuna/releases/tag/v3.0.0. Use suggest_float(..., log=True) instead.\n",
      "  C = trial.suggest_loguniform('C', 1e-3, 1e3)\n",
      "[I 2024-11-26 15:51:16,092] Trial 4 finished with value: 0.9667213114754099 and parameters: {'C': 5.505541505743146, 'kernel': 'poly', 'degree': 5, 'gamma': 'scale'}. Best is trial 0 with value: 1.0.\n",
      "C:\\Users\\andre\\AppData\\Local\\Temp\\ipykernel_20560\\1492138669.py:2: FutureWarning: suggest_loguniform has been deprecated in v3.0.0. This feature will be removed in v6.0.0. See https://github.com/optuna/optuna/releases/tag/v3.0.0. Use suggest_float(..., log=True) instead.\n",
      "  C = trial.suggest_loguniform('C', 1e-3, 1e3)\n",
      "[I 2024-11-26 15:51:16,105] Trial 5 finished with value: 1.0 and parameters: {'C': 12.488250833360231, 'kernel': 'linear', 'gamma': 'scale'}. Best is trial 0 with value: 1.0.\n",
      "C:\\Users\\andre\\AppData\\Local\\Temp\\ipykernel_20560\\1492138669.py:2: FutureWarning: suggest_loguniform has been deprecated in v3.0.0. This feature will be removed in v6.0.0. See https://github.com/optuna/optuna/releases/tag/v3.0.0. Use suggest_float(..., log=True) instead.\n",
      "  C = trial.suggest_loguniform('C', 1e-3, 1e3)\n",
      "[I 2024-11-26 15:51:16,120] Trial 6 finished with value: 1.0 and parameters: {'C': 0.0318438003994067, 'kernel': 'linear', 'gamma': 'auto'}. Best is trial 0 with value: 1.0.\n",
      "C:\\Users\\andre\\AppData\\Local\\Temp\\ipykernel_20560\\1492138669.py:2: FutureWarning: suggest_loguniform has been deprecated in v3.0.0. This feature will be removed in v6.0.0. See https://github.com/optuna/optuna/releases/tag/v3.0.0. Use suggest_float(..., log=True) instead.\n",
      "  C = trial.suggest_loguniform('C', 1e-3, 1e3)\n",
      "[I 2024-11-26 15:51:16,134] Trial 7 finished with value: 0.9267213114754099 and parameters: {'C': 87.73583782852712, 'kernel': 'sigmoid', 'gamma': 'auto'}. Best is trial 0 with value: 1.0.\n",
      "C:\\Users\\andre\\AppData\\Local\\Temp\\ipykernel_20560\\1492138669.py:2: FutureWarning: suggest_loguniform has been deprecated in v3.0.0. This feature will be removed in v6.0.0. See https://github.com/optuna/optuna/releases/tag/v3.0.0. Use suggest_float(..., log=True) instead.\n",
      "  C = trial.suggest_loguniform('C', 1e-3, 1e3)\n",
      "[I 2024-11-26 15:51:16,156] Trial 8 finished with value: 1.0 and parameters: {'C': 163.34794883298335, 'kernel': 'poly', 'degree': 2, 'gamma': 'auto'}. Best is trial 0 with value: 1.0.\n",
      "C:\\Users\\andre\\AppData\\Local\\Temp\\ipykernel_20560\\1492138669.py:2: FutureWarning: suggest_loguniform has been deprecated in v3.0.0. This feature will be removed in v6.0.0. See https://github.com/optuna/optuna/releases/tag/v3.0.0. Use suggest_float(..., log=True) instead.\n",
      "  C = trial.suggest_loguniform('C', 1e-3, 1e3)\n",
      "[I 2024-11-26 15:51:16,173] Trial 9 finished with value: 0.9468306010928961 and parameters: {'C': 5.918010957746377, 'kernel': 'sigmoid', 'gamma': 'scale'}. Best is trial 0 with value: 1.0.\n",
      "C:\\Users\\andre\\AppData\\Local\\Temp\\ipykernel_20560\\1492138669.py:2: FutureWarning: suggest_loguniform has been deprecated in v3.0.0. This feature will be removed in v6.0.0. See https://github.com/optuna/optuna/releases/tag/v3.0.0. Use suggest_float(..., log=True) instead.\n",
      "  C = trial.suggest_loguniform('C', 1e-3, 1e3)\n",
      "[I 2024-11-26 15:51:16,217] Trial 10 finished with value: 0.6113114754098361 and parameters: {'C': 0.00752959527746316, 'kernel': 'rbf', 'gamma': 'auto'}. Best is trial 0 with value: 1.0.\n",
      "C:\\Users\\andre\\AppData\\Local\\Temp\\ipykernel_20560\\1492138669.py:2: FutureWarning: suggest_loguniform has been deprecated in v3.0.0. This feature will be removed in v6.0.0. See https://github.com/optuna/optuna/releases/tag/v3.0.0. Use suggest_float(..., log=True) instead.\n",
      "  C = trial.suggest_loguniform('C', 1e-3, 1e3)\n",
      "[I 2024-11-26 15:51:16,241] Trial 11 finished with value: 1.0 and parameters: {'C': 761.7302876879176, 'kernel': 'poly', 'degree': 5, 'gamma': 'scale'}. Best is trial 0 with value: 1.0.\n",
      "C:\\Users\\andre\\AppData\\Local\\Temp\\ipykernel_20560\\1492138669.py:2: FutureWarning: suggest_loguniform has been deprecated in v3.0.0. This feature will be removed in v6.0.0. See https://github.com/optuna/optuna/releases/tag/v3.0.0. Use suggest_float(..., log=True) instead.\n",
      "  C = trial.suggest_loguniform('C', 1e-3, 1e3)\n",
      "[I 2024-11-26 15:51:16,273] Trial 12 finished with value: 0.99 and parameters: {'C': 595.5247956217571, 'kernel': 'poly', 'degree': 4, 'gamma': 'scale'}. Best is trial 0 with value: 1.0.\n",
      "C:\\Users\\andre\\AppData\\Local\\Temp\\ipykernel_20560\\1492138669.py:2: FutureWarning: suggest_loguniform has been deprecated in v3.0.0. This feature will be removed in v6.0.0. See https://github.com/optuna/optuna/releases/tag/v3.0.0. Use suggest_float(..., log=True) instead.\n",
      "  C = trial.suggest_loguniform('C', 1e-3, 1e3)\n",
      "[I 2024-11-26 15:51:16,297] Trial 13 finished with value: 1.0 and parameters: {'C': 52.7566431630505, 'kernel': 'poly', 'degree': 3, 'gamma': 'scale'}. Best is trial 0 with value: 1.0.\n",
      "C:\\Users\\andre\\AppData\\Local\\Temp\\ipykernel_20560\\1492138669.py:2: FutureWarning: suggest_loguniform has been deprecated in v3.0.0. This feature will be removed in v6.0.0. See https://github.com/optuna/optuna/releases/tag/v3.0.0. Use suggest_float(..., log=True) instead.\n",
      "  C = trial.suggest_loguniform('C', 1e-3, 1e3)\n",
      "[I 2024-11-26 15:51:16,342] Trial 14 finished with value: 0.9169945355191256 and parameters: {'C': 1.0082418828600317, 'kernel': 'poly', 'degree': 4, 'gamma': 'scale'}. Best is trial 0 with value: 1.0.\n",
      "C:\\Users\\andre\\AppData\\Local\\Temp\\ipykernel_20560\\1492138669.py:2: FutureWarning: suggest_loguniform has been deprecated in v3.0.0. This feature will be removed in v6.0.0. See https://github.com/optuna/optuna/releases/tag/v3.0.0. Use suggest_float(..., log=True) instead.\n",
      "  C = trial.suggest_loguniform('C', 1e-3, 1e3)\n",
      "[I 2024-11-26 15:51:16,373] Trial 15 finished with value: 1.0 and parameters: {'C': 28.593660208912894, 'kernel': 'poly', 'degree': 2, 'gamma': 'scale'}. Best is trial 0 with value: 1.0.\n",
      "C:\\Users\\andre\\AppData\\Local\\Temp\\ipykernel_20560\\1492138669.py:2: FutureWarning: suggest_loguniform has been deprecated in v3.0.0. This feature will be removed in v6.0.0. See https://github.com/optuna/optuna/releases/tag/v3.0.0. Use suggest_float(..., log=True) instead.\n",
      "  C = trial.suggest_loguniform('C', 1e-3, 1e3)\n",
      "[I 2024-11-26 15:51:16,415] Trial 16 finished with value: 0.6113114754098361 and parameters: {'C': 0.001030743177861904, 'kernel': 'rbf', 'gamma': 'scale'}. Best is trial 0 with value: 1.0.\n",
      "C:\\Users\\andre\\AppData\\Local\\Temp\\ipykernel_20560\\1492138669.py:2: FutureWarning: suggest_loguniform has been deprecated in v3.0.0. This feature will be removed in v6.0.0. See https://github.com/optuna/optuna/releases/tag/v3.0.0. Use suggest_float(..., log=True) instead.\n",
      "  C = trial.suggest_loguniform('C', 1e-3, 1e3)\n",
      "[I 2024-11-26 15:51:16,433] Trial 17 finished with value: 1.0 and parameters: {'C': 0.9279893404077946, 'kernel': 'linear', 'gamma': 'scale'}. Best is trial 0 with value: 1.0.\n",
      "C:\\Users\\andre\\AppData\\Local\\Temp\\ipykernel_20560\\1492138669.py:2: FutureWarning: suggest_loguniform has been deprecated in v3.0.0. This feature will be removed in v6.0.0. See https://github.com/optuna/optuna/releases/tag/v3.0.0. Use suggest_float(..., log=True) instead.\n",
      "  C = trial.suggest_loguniform('C', 1e-3, 1e3)\n",
      "[I 2024-11-26 15:51:16,451] Trial 18 finished with value: 0.9667213114754099 and parameters: {'C': 216.95112303543348, 'kernel': 'sigmoid', 'gamma': 'auto'}. Best is trial 0 with value: 1.0.\n",
      "C:\\Users\\andre\\AppData\\Local\\Temp\\ipykernel_20560\\1492138669.py:2: FutureWarning: suggest_loguniform has been deprecated in v3.0.0. This feature will be removed in v6.0.0. See https://github.com/optuna/optuna/releases/tag/v3.0.0. Use suggest_float(..., log=True) instead.\n",
      "  C = trial.suggest_loguniform('C', 1e-3, 1e3)\n",
      "[I 2024-11-26 15:51:16,483] Trial 19 finished with value: 0.99 and parameters: {'C': 778.9484396323372, 'kernel': 'poly', 'degree': 4, 'gamma': 'scale'}. Best is trial 0 with value: 1.0.\n",
      "C:\\Users\\andre\\AppData\\Local\\Temp\\ipykernel_20560\\1492138669.py:2: FutureWarning: suggest_loguniform has been deprecated in v3.0.0. This feature will be removed in v6.0.0. See https://github.com/optuna/optuna/releases/tag/v3.0.0. Use suggest_float(..., log=True) instead.\n",
      "  C = trial.suggest_loguniform('C', 1e-3, 1e3)\n",
      "[I 2024-11-26 15:51:16,510] Trial 20 finished with value: 0.9966666666666667 and parameters: {'C': 1.6835045358716567, 'kernel': 'poly', 'degree': 3, 'gamma': 'scale'}. Best is trial 0 with value: 1.0.\n",
      "C:\\Users\\andre\\AppData\\Local\\Temp\\ipykernel_20560\\1492138669.py:2: FutureWarning: suggest_loguniform has been deprecated in v3.0.0. This feature will be removed in v6.0.0. See https://github.com/optuna/optuna/releases/tag/v3.0.0. Use suggest_float(..., log=True) instead.\n",
      "  C = trial.suggest_loguniform('C', 1e-3, 1e3)\n",
      "[I 2024-11-26 15:51:16,527] Trial 21 finished with value: 1.0 and parameters: {'C': 19.61128682959924, 'kernel': 'linear', 'gamma': 'scale'}. Best is trial 0 with value: 1.0.\n",
      "C:\\Users\\andre\\AppData\\Local\\Temp\\ipykernel_20560\\1492138669.py:2: FutureWarning: suggest_loguniform has been deprecated in v3.0.0. This feature will be removed in v6.0.0. See https://github.com/optuna/optuna/releases/tag/v3.0.0. Use suggest_float(..., log=True) instead.\n",
      "  C = trial.suggest_loguniform('C', 1e-3, 1e3)\n",
      "[I 2024-11-26 15:51:16,545] Trial 22 finished with value: 1.0 and parameters: {'C': 9.751280666181687, 'kernel': 'linear', 'gamma': 'scale'}. Best is trial 0 with value: 1.0.\n",
      "C:\\Users\\andre\\AppData\\Local\\Temp\\ipykernel_20560\\1492138669.py:2: FutureWarning: suggest_loguniform has been deprecated in v3.0.0. This feature will be removed in v6.0.0. See https://github.com/optuna/optuna/releases/tag/v3.0.0. Use suggest_float(..., log=True) instead.\n",
      "  C = trial.suggest_loguniform('C', 1e-3, 1e3)\n",
      "[I 2024-11-26 15:51:16,563] Trial 23 finished with value: 1.0 and parameters: {'C': 245.7082788438417, 'kernel': 'linear', 'gamma': 'scale'}. Best is trial 0 with value: 1.0.\n",
      "C:\\Users\\andre\\AppData\\Local\\Temp\\ipykernel_20560\\1492138669.py:2: FutureWarning: suggest_loguniform has been deprecated in v3.0.0. This feature will be removed in v6.0.0. See https://github.com/optuna/optuna/releases/tag/v3.0.0. Use suggest_float(..., log=True) instead.\n",
      "  C = trial.suggest_loguniform('C', 1e-3, 1e3)\n",
      "[I 2024-11-26 15:51:16,580] Trial 24 finished with value: 1.0 and parameters: {'C': 67.05261012432463, 'kernel': 'linear', 'gamma': 'scale'}. Best is trial 0 with value: 1.0.\n",
      "C:\\Users\\andre\\AppData\\Local\\Temp\\ipykernel_20560\\1492138669.py:2: FutureWarning: suggest_loguniform has been deprecated in v3.0.0. This feature will be removed in v6.0.0. See https://github.com/optuna/optuna/releases/tag/v3.0.0. Use suggest_float(..., log=True) instead.\n",
      "  C = trial.suggest_loguniform('C', 1e-3, 1e3)\n",
      "[I 2024-11-26 15:51:16,597] Trial 25 finished with value: 1.0 and parameters: {'C': 288.6423491275409, 'kernel': 'linear', 'gamma': 'scale'}. Best is trial 0 with value: 1.0.\n",
      "C:\\Users\\andre\\AppData\\Local\\Temp\\ipykernel_20560\\1492138669.py:2: FutureWarning: suggest_loguniform has been deprecated in v3.0.0. This feature will be removed in v6.0.0. See https://github.com/optuna/optuna/releases/tag/v3.0.0. Use suggest_float(..., log=True) instead.\n",
      "  C = trial.suggest_loguniform('C', 1e-3, 1e3)\n",
      "[I 2024-11-26 15:51:16,621] Trial 26 finished with value: 0.9800000000000001 and parameters: {'C': 21.570349102339296, 'kernel': 'rbf', 'gamma': 'auto'}. Best is trial 0 with value: 1.0.\n",
      "C:\\Users\\andre\\AppData\\Local\\Temp\\ipykernel_20560\\1492138669.py:2: FutureWarning: suggest_loguniform has been deprecated in v3.0.0. This feature will be removed in v6.0.0. See https://github.com/optuna/optuna/releases/tag/v3.0.0. Use suggest_float(..., log=True) instead.\n",
      "  C = trial.suggest_loguniform('C', 1e-3, 1e3)\n",
      "[I 2024-11-26 15:51:16,642] Trial 27 finished with value: 0.9634972677595629 and parameters: {'C': 2.5428530372483924, 'kernel': 'sigmoid', 'gamma': 'scale'}. Best is trial 0 with value: 1.0.\n",
      "C:\\Users\\andre\\AppData\\Local\\Temp\\ipykernel_20560\\1492138669.py:2: FutureWarning: suggest_loguniform has been deprecated in v3.0.0. This feature will be removed in v6.0.0. See https://github.com/optuna/optuna/releases/tag/v3.0.0. Use suggest_float(..., log=True) instead.\n",
      "  C = trial.suggest_loguniform('C', 1e-3, 1e3)\n",
      "[I 2024-11-26 15:51:16,665] Trial 28 finished with value: 1.0 and parameters: {'C': 88.53826432207053, 'kernel': 'poly', 'degree': 5, 'gamma': 'scale'}. Best is trial 0 with value: 1.0.\n",
      "C:\\Users\\andre\\AppData\\Local\\Temp\\ipykernel_20560\\1492138669.py:2: FutureWarning: suggest_loguniform has been deprecated in v3.0.0. This feature will be removed in v6.0.0. See https://github.com/optuna/optuna/releases/tag/v3.0.0. Use suggest_float(..., log=True) instead.\n",
      "  C = trial.suggest_loguniform('C', 1e-3, 1e3)\n",
      "[I 2024-11-26 15:51:16,698] Trial 29 finished with value: 0.9966666666666667 and parameters: {'C': 0.4312820992126954, 'kernel': 'poly', 'degree': 3, 'gamma': 'scale'}. Best is trial 0 with value: 1.0.\n",
      "C:\\Users\\andre\\AppData\\Local\\Temp\\ipykernel_20560\\1492138669.py:2: FutureWarning: suggest_loguniform has been deprecated in v3.0.0. This feature will be removed in v6.0.0. See https://github.com/optuna/optuna/releases/tag/v3.0.0. Use suggest_float(..., log=True) instead.\n",
      "  C = trial.suggest_loguniform('C', 1e-3, 1e3)\n",
      "[I 2024-11-26 15:51:16,716] Trial 30 finished with value: 1.0 and parameters: {'C': 981.9509478117559, 'kernel': 'linear', 'gamma': 'scale'}. Best is trial 0 with value: 1.0.\n",
      "C:\\Users\\andre\\AppData\\Local\\Temp\\ipykernel_20560\\1492138669.py:2: FutureWarning: suggest_loguniform has been deprecated in v3.0.0. This feature will be removed in v6.0.0. See https://github.com/optuna/optuna/releases/tag/v3.0.0. Use suggest_float(..., log=True) instead.\n",
      "  C = trial.suggest_loguniform('C', 1e-3, 1e3)\n",
      "[I 2024-11-26 15:51:16,734] Trial 31 finished with value: 1.0 and parameters: {'C': 0.08399998289424394, 'kernel': 'linear', 'gamma': 'auto'}. Best is trial 0 with value: 1.0.\n",
      "C:\\Users\\andre\\AppData\\Local\\Temp\\ipykernel_20560\\1492138669.py:2: FutureWarning: suggest_loguniform has been deprecated in v3.0.0. This feature will be removed in v6.0.0. See https://github.com/optuna/optuna/releases/tag/v3.0.0. Use suggest_float(..., log=True) instead.\n",
      "  C = trial.suggest_loguniform('C', 1e-3, 1e3)\n",
      "[I 2024-11-26 15:51:16,751] Trial 32 finished with value: 1.0 and parameters: {'C': 0.12441878980367509, 'kernel': 'linear', 'gamma': 'auto'}. Best is trial 0 with value: 1.0.\n",
      "C:\\Users\\andre\\AppData\\Local\\Temp\\ipykernel_20560\\1492138669.py:2: FutureWarning: suggest_loguniform has been deprecated in v3.0.0. This feature will be removed in v6.0.0. See https://github.com/optuna/optuna/releases/tag/v3.0.0. Use suggest_float(..., log=True) instead.\n",
      "  C = trial.suggest_loguniform('C', 1e-3, 1e3)\n",
      "[I 2024-11-26 15:51:16,772] Trial 33 finished with value: 1.0 and parameters: {'C': 0.025112149993280486, 'kernel': 'linear', 'gamma': 'auto'}. Best is trial 0 with value: 1.0.\n",
      "C:\\Users\\andre\\AppData\\Local\\Temp\\ipykernel_20560\\1492138669.py:2: FutureWarning: suggest_loguniform has been deprecated in v3.0.0. This feature will be removed in v6.0.0. See https://github.com/optuna/optuna/releases/tag/v3.0.0. Use suggest_float(..., log=True) instead.\n",
      "  C = trial.suggest_loguniform('C', 1e-3, 1e3)\n",
      "[I 2024-11-26 15:51:16,796] Trial 34 finished with value: 1.0 and parameters: {'C': 0.017635759888385633, 'kernel': 'linear', 'gamma': 'auto'}. Best is trial 0 with value: 1.0.\n",
      "C:\\Users\\andre\\AppData\\Local\\Temp\\ipykernel_20560\\1492138669.py:2: FutureWarning: suggest_loguniform has been deprecated in v3.0.0. This feature will be removed in v6.0.0. See https://github.com/optuna/optuna/releases/tag/v3.0.0. Use suggest_float(..., log=True) instead.\n",
      "  C = trial.suggest_loguniform('C', 1e-3, 1e3)\n",
      "[I 2024-11-26 15:51:16,846] Trial 35 finished with value: 0.6179234972677595 and parameters: {'C': 0.0019945996961964296, 'kernel': 'poly', 'degree': 4, 'gamma': 'auto'}. Best is trial 0 with value: 1.0.\n",
      "C:\\Users\\andre\\AppData\\Local\\Temp\\ipykernel_20560\\1492138669.py:2: FutureWarning: suggest_loguniform has been deprecated in v3.0.0. This feature will be removed in v6.0.0. See https://github.com/optuna/optuna/releases/tag/v3.0.0. Use suggest_float(..., log=True) instead.\n",
      "  C = trial.suggest_loguniform('C', 1e-3, 1e3)\n",
      "[I 2024-11-26 15:51:16,874] Trial 36 finished with value: 0.9800000000000001 and parameters: {'C': 0.33031105788800263, 'kernel': 'rbf', 'gamma': 'auto'}. Best is trial 0 with value: 1.0.\n",
      "C:\\Users\\andre\\AppData\\Local\\Temp\\ipykernel_20560\\1492138669.py:2: FutureWarning: suggest_loguniform has been deprecated in v3.0.0. This feature will be removed in v6.0.0. See https://github.com/optuna/optuna/releases/tag/v3.0.0. Use suggest_float(..., log=True) instead.\n",
      "  C = trial.suggest_loguniform('C', 1e-3, 1e3)\n",
      "[I 2024-11-26 15:51:16,892] Trial 37 finished with value: 0.9534972677595628 and parameters: {'C': 4.233140513391041, 'kernel': 'sigmoid', 'gamma': 'auto'}. Best is trial 0 with value: 1.0.\n",
      "C:\\Users\\andre\\AppData\\Local\\Temp\\ipykernel_20560\\1492138669.py:2: FutureWarning: suggest_loguniform has been deprecated in v3.0.0. This feature will be removed in v6.0.0. See https://github.com/optuna/optuna/releases/tag/v3.0.0. Use suggest_float(..., log=True) instead.\n",
      "  C = trial.suggest_loguniform('C', 1e-3, 1e3)\n",
      "[I 2024-11-26 15:51:16,924] Trial 38 finished with value: 1.0 and parameters: {'C': 9.358623134074412, 'kernel': 'poly', 'degree': 2, 'gamma': 'scale'}. Best is trial 0 with value: 1.0.\n",
      "C:\\Users\\andre\\AppData\\Local\\Temp\\ipykernel_20560\\1492138669.py:2: FutureWarning: suggest_loguniform has been deprecated in v3.0.0. This feature will be removed in v6.0.0. See https://github.com/optuna/optuna/releases/tag/v3.0.0. Use suggest_float(..., log=True) instead.\n",
      "  C = trial.suggest_loguniform('C', 1e-3, 1e3)\n",
      "[I 2024-11-26 15:51:16,941] Trial 39 finished with value: 1.0 and parameters: {'C': 331.94787466512037, 'kernel': 'linear', 'gamma': 'scale'}. Best is trial 0 with value: 1.0.\n",
      "C:\\Users\\andre\\AppData\\Local\\Temp\\ipykernel_20560\\1492138669.py:2: FutureWarning: suggest_loguniform has been deprecated in v3.0.0. This feature will be removed in v6.0.0. See https://github.com/optuna/optuna/releases/tag/v3.0.0. Use suggest_float(..., log=True) instead.\n",
      "  C = trial.suggest_loguniform('C', 1e-3, 1e3)\n",
      "[I 2024-11-26 15:51:16,966] Trial 40 finished with value: 1.0 and parameters: {'C': 118.31677388749613, 'kernel': 'poly', 'degree': 5, 'gamma': 'auto'}. Best is trial 0 with value: 1.0.\n",
      "C:\\Users\\andre\\AppData\\Local\\Temp\\ipykernel_20560\\1492138669.py:2: FutureWarning: suggest_loguniform has been deprecated in v3.0.0. This feature will be removed in v6.0.0. See https://github.com/optuna/optuna/releases/tag/v3.0.0. Use suggest_float(..., log=True) instead.\n",
      "  C = trial.suggest_loguniform('C', 1e-3, 1e3)\n",
      "[I 2024-11-26 15:51:16,998] Trial 41 finished with value: 1.0 and parameters: {'C': 130.68225929601513, 'kernel': 'poly', 'degree': 2, 'gamma': 'auto'}. Best is trial 0 with value: 1.0.\n",
      "C:\\Users\\andre\\AppData\\Local\\Temp\\ipykernel_20560\\1492138669.py:2: FutureWarning: suggest_loguniform has been deprecated in v3.0.0. This feature will be removed in v6.0.0. See https://github.com/optuna/optuna/releases/tag/v3.0.0. Use suggest_float(..., log=True) instead.\n",
      "  C = trial.suggest_loguniform('C', 1e-3, 1e3)\n",
      "[I 2024-11-26 15:51:17,030] Trial 42 finished with value: 1.0 and parameters: {'C': 45.169307205081395, 'kernel': 'poly', 'degree': 2, 'gamma': 'auto'}. Best is trial 0 with value: 1.0.\n",
      "C:\\Users\\andre\\AppData\\Local\\Temp\\ipykernel_20560\\1492138669.py:2: FutureWarning: suggest_loguniform has been deprecated in v3.0.0. This feature will be removed in v6.0.0. See https://github.com/optuna/optuna/releases/tag/v3.0.0. Use suggest_float(..., log=True) instead.\n",
      "  C = trial.suggest_loguniform('C', 1e-3, 1e3)\n",
      "[I 2024-11-26 15:51:17,052] Trial 43 finished with value: 1.0 and parameters: {'C': 479.30068535760677, 'kernel': 'poly', 'degree': 3, 'gamma': 'auto'}. Best is trial 0 with value: 1.0.\n",
      "C:\\Users\\andre\\AppData\\Local\\Temp\\ipykernel_20560\\1492138669.py:2: FutureWarning: suggest_loguniform has been deprecated in v3.0.0. This feature will be removed in v6.0.0. See https://github.com/optuna/optuna/releases/tag/v3.0.0. Use suggest_float(..., log=True) instead.\n",
      "  C = trial.suggest_loguniform('C', 1e-3, 1e3)\n",
      "[I 2024-11-26 15:51:17,086] Trial 44 finished with value: 1.0 and parameters: {'C': 133.0710117119318, 'kernel': 'poly', 'degree': 2, 'gamma': 'auto'}. Best is trial 0 with value: 1.0.\n",
      "C:\\Users\\andre\\AppData\\Local\\Temp\\ipykernel_20560\\1492138669.py:2: FutureWarning: suggest_loguniform has been deprecated in v3.0.0. This feature will be removed in v6.0.0. See https://github.com/optuna/optuna/releases/tag/v3.0.0. Use suggest_float(..., log=True) instead.\n",
      "  C = trial.suggest_loguniform('C', 1e-3, 1e3)\n",
      "[I 2024-11-26 15:51:17,110] Trial 45 finished with value: 1.0 and parameters: {'C': 42.92701496030298, 'kernel': 'poly', 'degree': 3, 'gamma': 'scale'}. Best is trial 0 with value: 1.0.\n",
      "C:\\Users\\andre\\AppData\\Local\\Temp\\ipykernel_20560\\1492138669.py:2: FutureWarning: suggest_loguniform has been deprecated in v3.0.0. This feature will be removed in v6.0.0. See https://github.com/optuna/optuna/releases/tag/v3.0.0. Use suggest_float(..., log=True) instead.\n",
      "  C = trial.suggest_loguniform('C', 1e-3, 1e3)\n",
      "[I 2024-11-26 15:51:17,134] Trial 46 finished with value: 0.9800000000000001 and parameters: {'C': 418.12971802906964, 'kernel': 'rbf', 'gamma': 'scale'}. Best is trial 0 with value: 1.0.\n",
      "C:\\Users\\andre\\AppData\\Local\\Temp\\ipykernel_20560\\1492138669.py:2: FutureWarning: suggest_loguniform has been deprecated in v3.0.0. This feature will be removed in v6.0.0. See https://github.com/optuna/optuna/releases/tag/v3.0.0. Use suggest_float(..., log=True) instead.\n",
      "  C = trial.suggest_loguniform('C', 1e-3, 1e3)\n",
      "[I 2024-11-26 15:51:17,153] Trial 47 finished with value: 0.95 and parameters: {'C': 12.838666748740064, 'kernel': 'sigmoid', 'gamma': 'auto'}. Best is trial 0 with value: 1.0.\n",
      "C:\\Users\\andre\\AppData\\Local\\Temp\\ipykernel_20560\\1492138669.py:2: FutureWarning: suggest_loguniform has been deprecated in v3.0.0. This feature will be removed in v6.0.0. See https://github.com/optuna/optuna/releases/tag/v3.0.0. Use suggest_float(..., log=True) instead.\n",
      "  C = trial.suggest_loguniform('C', 1e-3, 1e3)\n",
      "[I 2024-11-26 15:51:17,226] Trial 48 finished with value: 0.6312021857923498 and parameters: {'C': 0.0039010867634148233, 'kernel': 'poly', 'degree': 4, 'gamma': 'scale'}. Best is trial 0 with value: 1.0.\n",
      "C:\\Users\\andre\\AppData\\Local\\Temp\\ipykernel_20560\\1492138669.py:2: FutureWarning: suggest_loguniform has been deprecated in v3.0.0. This feature will be removed in v6.0.0. See https://github.com/optuna/optuna/releases/tag/v3.0.0. Use suggest_float(..., log=True) instead.\n",
      "  C = trial.suggest_loguniform('C', 1e-3, 1e3)\n",
      "[I 2024-11-26 15:51:17,258] Trial 49 finished with value: 1.0 and parameters: {'C': 177.86995813069487, 'kernel': 'poly', 'degree': 2, 'gamma': 'scale'}. Best is trial 0 with value: 1.0.\n"
     ]
    }
   ],
   "source": [
    "study = optuna.create_study(direction='maximize')\n",
    "study.optimize(objective, n_trials=50)"
   ]
  },
  {
   "cell_type": "code",
   "execution_count": 28,
   "metadata": {},
   "outputs": [
    {
     "name": "stdout",
     "output_type": "stream",
     "text": [
      "Best parameters: {'C': 378.3465915170994, 'kernel': 'poly', 'degree': 3, 'gamma': 'scale'}\n",
      "Best accuracy: 1.0\n"
     ]
    }
   ],
   "source": [
    "print(\"Best parameters:\", study.best_params)\n",
    "print(\"Best accuracy:\", study.best_value)"
   ]
  },
  {
   "cell_type": "code",
   "execution_count": 29,
   "metadata": {},
   "outputs": [
    {
     "name": "stdout",
     "output_type": "stream",
     "text": [
      "              precision    recall  f1-score   support\n",
      "\n",
      "           0       1.00      1.00      1.00        49\n",
      "           1       1.00      1.00      1.00        27\n",
      "\n",
      "    accuracy                           1.00        76\n",
      "   macro avg       1.00      1.00      1.00        76\n",
      "weighted avg       1.00      1.00      1.00        76\n",
      "\n"
     ]
    }
   ],
   "source": [
    "best_params = study.best_params\n",
    "svc_optimized = SVC(\n",
    "    C=best_params['C'],\n",
    "    kernel=best_params['kernel'],\n",
    "    degree=best_params.get('degree', 3),\n",
    "    gamma=best_params['gamma']\n",
    ")\n",
    "svc_optimized.fit(X_train, y_train)\n",
    "\n",
    "y_pred = svc_optimized.predict(X_test)\n",
    "print(classification_report(y_test, y_pred))"
   ]
  },
  {
   "cell_type": "code",
   "execution_count": 73,
   "metadata": {},
   "outputs": [],
   "source": [
    "with open('svc_optuna.pkl', 'wb') as f:\n",
    "    pickle.dump(svc_optimized, f)"
   ]
  },
  {
   "cell_type": "markdown",
   "metadata": {},
   "source": [
    "### Sklearn-genetic-opt"
   ]
  },
  {
   "cell_type": "code",
   "execution_count": null,
   "metadata": {},
   "outputs": [],
   "source": [
    "from deap import base, creator, tools, algorithms\n",
    "import random\n",
    "import numpy as np\n",
    "from sklearn.model_selection import train_test_split\n",
    "from sklearn.datasets import load_iris\n",
    "from sklearn.metrics import accuracy_score"
   ]
  },
  {
   "cell_type": "code",
   "execution_count": null,
   "metadata": {},
   "outputs": [
    {
     "name": "stderr",
     "output_type": "stream",
     "text": [
      "c:\\Users\\andre\\miniconda3\\envs\\dm-env\\Lib\\site-packages\\deap\\creator.py:185: RuntimeWarning: A class named 'FitnessMax' has already been created and it will be overwritten. Consider deleting previous creation of that class or rename it.\n",
      "  warnings.warn(\"A class named '{0}' has already been created and it \"\n",
      "c:\\Users\\andre\\miniconda3\\envs\\dm-env\\Lib\\site-packages\\deap\\creator.py:185: RuntimeWarning: A class named 'Individual' has already been created and it will be overwritten. Consider deleting previous creation of that class or rename it.\n",
      "  warnings.warn(\"A class named '{0}' has already been created and it \"\n"
     ]
    }
   ],
   "source": [
    "creator.create(\"FitnessMax\", base.Fitness, weights=(1.0,))\n",
    "creator.create(\"Individual\", list, fitness=creator.FitnessMax)\n",
    "\n",
    "def create_individual():\n",
    "    C = random.uniform(0.1, 1000)\n",
    "    gamma = random.uniform(1e-5, 1)\n",
    "    return [C, gamma]\n",
    "\n",
    "def evaluate(individual):\n",
    "    C, gamma = individual\n",
    "    \n",
    "    if gamma <= 0:\n",
    "        gamma = 1e-5\n",
    "    \n",
    "    clf = SVC(C=C, gamma=gamma)\n",
    "    clf.fit(X_train, y_train)\n",
    "    \n",
    "    y_pred = clf.predict(X_test)\n",
    "    \n",
    "    accuracy = accuracy_score(y_test, y_pred)\n",
    "    \n",
    "    return (accuracy,)"
   ]
  },
  {
   "cell_type": "code",
   "execution_count": 41,
   "metadata": {},
   "outputs": [],
   "source": [
    "toolbox = base.Toolbox()\n",
    "toolbox.register(\"individual\", tools.initIterate, creator.Individual, create_individual)\n",
    "toolbox.register(\"population\", tools.initRepeat, list, toolbox.individual)\n",
    "toolbox.register(\"mate\", tools.cxTwoPoint)\n",
    "toolbox.register(\"mutate\", tools.mutGaussian, mu=0, sigma=1, indpb=0.2)\n",
    "toolbox.register(\"select\", tools.selTournament, tournsize=3)\n",
    "toolbox.register(\"evaluate\", evaluate)"
   ]
  },
  {
   "cell_type": "code",
   "execution_count": null,
   "metadata": {},
   "outputs": [
    {
     "name": "stdout",
     "output_type": "stream",
     "text": [
      "gen\tnevals\n",
      "0  \t50    \n",
      "1  \t39    \n",
      "2  \t41    \n",
      "3  \t38    \n",
      "4  \t42    \n",
      "5  \t33    \n",
      "6  \t41    \n",
      "7  \t44    \n",
      "8  \t41    \n",
      "9  \t40    \n",
      "10 \t43    \n",
      "11 \t33    \n",
      "12 \t43    \n",
      "13 \t43    \n",
      "14 \t39    \n",
      "15 \t41    \n",
      "16 \t36    \n",
      "17 \t39    \n",
      "18 \t44    \n",
      "19 \t40    \n",
      "20 \t40    \n",
      "21 \t42    \n",
      "22 \t37    \n",
      "23 \t40    \n",
      "24 \t37    \n",
      "25 \t31    \n",
      "26 \t35    \n",
      "27 \t28    \n",
      "28 \t40    \n",
      "29 \t36    \n",
      "30 \t38    \n"
     ]
    },
    {
     "data": {
      "text/plain": [
       "([[110.72738726179404, -1.8102789313432486],\n",
       "  [809.5216373420415, 0.02542305543186659],\n",
       "  [808.873626219663, 0.02542305543186659],\n",
       "  [810.493262794097, 0.02542305543186659],\n",
       "  [808.7022586262136, 0.02542305543186659],\n",
       "  [808.7347407050627, 0.02542305543186659],\n",
       "  [110.72738726179404, 0.02542305543186659],\n",
       "  [110.72738726179404, 0.02542305543186659],\n",
       "  [808.873626219663, 0.02542305543186659],\n",
       "  [808.8906127691678, 0.02542305543186659],\n",
       "  [808.7022586262136, 0.02542305543186659],\n",
       "  [809.906274143122, 0.02542305543186659],\n",
       "  [110.72738726179404, 0.02542305543186659],\n",
       "  [808.7022586262136, 0.02542305543186659],\n",
       "  [110.72738726179404, 0.02542305543186659],\n",
       "  [809.5216373420415, 0.02542305543186659],\n",
       "  [110.72738726179404, 0.02542305543186659],\n",
       "  [110.72738726179404, 0.02542305543186659],\n",
       "  [808.7347407050627, 0.02542305543186659],\n",
       "  [808.873626219663, 0.02542305543186659],\n",
       "  [808.873626219663, 0.02542305543186659],\n",
       "  [809.5216373420415, 0.4917524782471723],\n",
       "  [808.873626219663, 0.02542305543186659],\n",
       "  [808.873626219663, 0.02542305543186659],\n",
       "  [808.7022586262136, 0.02542305543186659],\n",
       "  [110.72738726179404, 0.02542305543186659],\n",
       "  [110.72738726179404, 0.02542305543186659],\n",
       "  [807.5071308892115, 0.02542305543186659],\n",
       "  [808.873626219663, 0.02542305543186659],\n",
       "  [110.72963010892983, 0.02542305543186659],\n",
       "  [808.7022586262136, 0.02542305543186659],\n",
       "  [809.5216373420415, 0.02542305543186659],\n",
       "  [809.906274143122, 0.02542305543186659],\n",
       "  [110.72738726179404, 0.02542305543186659],\n",
       "  [111.0051727540189, 0.02542305543186659],\n",
       "  [809.5216373420415, -0.3889277570095986],\n",
       "  [808.873626219663, 0.02542305543186659],\n",
       "  [809.5216373420415, 0.02542305543186659],\n",
       "  [111.0051727540189, 0.02542305543186659],\n",
       "  [808.7347407050627, 0.02542305543186659],\n",
       "  [809.906274143122, 0.02542305543186659],\n",
       "  [807.5071308892115, 0.02542305543186659],\n",
       "  [809.906274143122, 0.02542305543186659],\n",
       "  [110.72738726179404, 0.02542305543186659],\n",
       "  [808.7022586262136, 0.02542305543186659],\n",
       "  [809.5216373420415, 0.02542305543186659],\n",
       "  [808.873626219663, 0.02542305543186659],\n",
       "  [809.906274143122, -2.0341382838748014],\n",
       "  [110.72738726179404, 0.02542305543186659],\n",
       "  [808.873626219663, 0.02542305543186659]],\n",
       " [{'gen': 0, 'nevals': 50},\n",
       "  {'gen': 1, 'nevals': 39},\n",
       "  {'gen': 2, 'nevals': 41},\n",
       "  {'gen': 3, 'nevals': 38},\n",
       "  {'gen': 4, 'nevals': 42},\n",
       "  {'gen': 5, 'nevals': 33},\n",
       "  {'gen': 6, 'nevals': 41},\n",
       "  {'gen': 7, 'nevals': 44},\n",
       "  {'gen': 8, 'nevals': 41},\n",
       "  {'gen': 9, 'nevals': 40},\n",
       "  {'gen': 10, 'nevals': 43},\n",
       "  {'gen': 11, 'nevals': 33},\n",
       "  {'gen': 12, 'nevals': 43},\n",
       "  {'gen': 13, 'nevals': 43},\n",
       "  {'gen': 14, 'nevals': 39},\n",
       "  {'gen': 15, 'nevals': 41},\n",
       "  {'gen': 16, 'nevals': 36},\n",
       "  {'gen': 17, 'nevals': 39},\n",
       "  {'gen': 18, 'nevals': 44},\n",
       "  {'gen': 19, 'nevals': 40},\n",
       "  {'gen': 20, 'nevals': 40},\n",
       "  {'gen': 21, 'nevals': 42},\n",
       "  {'gen': 22, 'nevals': 37},\n",
       "  {'gen': 23, 'nevals': 40},\n",
       "  {'gen': 24, 'nevals': 37},\n",
       "  {'gen': 25, 'nevals': 31},\n",
       "  {'gen': 26, 'nevals': 35},\n",
       "  {'gen': 27, 'nevals': 28},\n",
       "  {'gen': 28, 'nevals': 40},\n",
       "  {'gen': 29, 'nevals': 36},\n",
       "  {'gen': 30, 'nevals': 38}])"
      ]
     },
     "execution_count": 42,
     "metadata": {},
     "output_type": "execute_result"
    }
   ],
   "source": [
    "population_size = 50\n",
    "generations = 30\n",
    "cx_prob = 0.7\n",
    "mut_prob = 0.2\n",
    "\n",
    "population = toolbox.population(n=population_size)\n",
    "\n",
    "algorithms.eaSimple(population, toolbox, cxpb=cx_prob, mutpb=mut_prob, \n",
    "                    ngen=generations, verbose=True)"
   ]
  },
  {
   "cell_type": "code",
   "execution_count": 43,
   "metadata": {},
   "outputs": [
    {
     "name": "stdout",
     "output_type": "stream",
     "text": [
      "Best individual: [110.72738726179404, -1.8102789313432486]\n"
     ]
    }
   ],
   "source": [
    "best_individual = tools.selBest(population, 1)[0]\n",
    "print(f\"Best individual: {best_individual}\")"
   ]
  },
  {
   "cell_type": "code",
   "execution_count": null,
   "metadata": {},
   "outputs": [
    {
     "name": "stdout",
     "output_type": "stream",
     "text": [
      "Final accuracy with best hyperparameters: 1.0\n"
     ]
    }
   ],
   "source": [
    "C, gamma = best_individual\n",
    "\n",
    "if gamma <= 0:\n",
    "\tgamma = 1e-5\n",
    "\n",
    "final_clf = SVC(C=C, gamma=gamma)\n",
    "final_clf.fit(X_train, y_train)\n",
    "final_accuracy = accuracy_score(y_test, final_clf.predict(X_test))\n",
    "print(f\"Final accuracy with best hyperparameters: {final_accuracy}\")"
   ]
  },
  {
   "cell_type": "code",
   "execution_count": 71,
   "metadata": {},
   "outputs": [],
   "source": [
    "with open('svc_genetic.pkl', 'wb') as f:\n",
    "    pickle.dump(final_clf, f)"
   ]
  },
  {
   "cell_type": "markdown",
   "metadata": {},
   "source": [
    "**Interpretación:** En este caso, random forest obtiene mejores resultados sin necesidad de optimizar los hiperparámetros, ya que este modelo no hace suposiciones sobre la linealidad de los datos. SVC, de manera contraria, asume esta linealidad; no obstante, la diferencia de rendimiento sirvió para demostrar que las técnicas avanzadas de optimización de hiperparámetros son efectivas, logrando igualar el rendimiento de rf."
   ]
  }
 ],
 "metadata": {
  "kernelspec": {
   "display_name": "dm-env",
   "language": "python",
   "name": "python3"
  },
  "language_info": {
   "codemirror_mode": {
    "name": "ipython",
    "version": 3
   },
   "file_extension": ".py",
   "mimetype": "text/x-python",
   "name": "python",
   "nbconvert_exporter": "python",
   "pygments_lexer": "ipython3",
   "version": "3.11.5"
  }
 },
 "nbformat": 4,
 "nbformat_minor": 2
}
